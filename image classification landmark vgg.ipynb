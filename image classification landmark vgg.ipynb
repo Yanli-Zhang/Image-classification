{
 "cells": [
  {
   "cell_type": "code",
   "execution_count": 1,
   "metadata": {},
   "outputs": [],
   "source": [
    "import os\n",
    "import cv2\n",
    "import numpy as np\n",
    "import tensorflow as tf\n",
    "import matplotlib.pyplot as plt\n",
    "from sklearn.model_selection import train_test_split\n",
    "import pandas as pd\n",
    "#from PIL import Image"
   ]
  },
  {
   "cell_type": "code",
   "execution_count": 2,
   "metadata": {},
   "outputs": [],
   "source": [
    "tf.random.set_seed(40)"
   ]
  },
  {
   "cell_type": "code",
   "execution_count": 3,
   "metadata": {},
   "outputs": [],
   "source": [
    "folder_path = \"C:/Users/Bryan/USC/DSCI 552/final project\"\n",
    "# folder_path = \"/content/drive/Shareddrives/552 Final Project/Landmarks-v1_1\"\n",
    "# folder_path = \"/Users/jerawincel/Documents/USC/DSCI552/552FinalProject/Landmarks-v1_1\"\n",
    "\n"
   ]
  },
  {
   "cell_type": "code",
   "execution_count": 4,
   "metadata": {},
   "outputs": [],
   "source": [
    "# Define landscape categories\n",
    "categories = [\"Gothic\", \"Modern\", \"Mughal\", \"Neoclassical\", \"Pagodas\", \"Pyramids\"]"
   ]
  },
  {
   "cell_type": "code",
   "execution_count": 5,
   "metadata": {},
   "outputs": [],
   "source": [
    "landmarks = []\n",
    "images = []\n",
    "# labels by landmark names\n",
    "targets = []\n",
    "# labels by category names\n",
    "y_cat = []\n",
    "i = 0\n",
    "n_cat = 0\n",
    "\n",
    "for category in categories:\n",
    "    subdir_path = os.path.join(folder_path, category)\n",
    "    #print(subdir_path)\n",
    "    \n",
    "    # Iterate through each subfolder in the parent folder\n",
    "    \n",
    "    for landmark in os.listdir(subdir_path):\n",
    "        if (landmark == '.DS_Store'):\n",
    "          continue\n",
    "        else:\n",
    "          landmarks.append(landmark)\n",
    "          \n",
    "      # Construct the full path to the subfolder\n",
    "          next_path = os.path.join(subdir_path, landmark)\n",
    "          \n",
    "          # Iterate through each image file in the subfolder\n",
    "          for filename in os.listdir(next_path):\n",
    "              # Construct the full path to the image file\n",
    "              image_path = os.path.join(next_path, filename)\n",
    "              try: \n",
    "                # Read the image using OpenCV\n",
    "                image = cv2.imread(image_path)\n",
    "                if image is None:\n",
    "                  continue\n",
    "                else:\n",
    "                  #image = cv2.resize(image, (224, 224))\n",
    "\n",
    "                  # Convert the image to an array and normalize the pixel values\n",
    "                  #img_array = np.array(image) #/ 255.0\n",
    "                  images.append(image)\n",
    "                  targets.append(i)\n",
    "                  y_cat.append(n_cat)\n",
    "                  #break\n",
    "              except Exception as e:\n",
    "                    print(f\"Error processing file {image_path}: {e}\")\n",
    "        i += 1\n",
    "    n_cat += 1\n",
    "\n",
    "\n",
    "            "
   ]
  },
  {
   "cell_type": "code",
   "execution_count": 6,
   "metadata": {},
   "outputs": [
    {
     "name": "stdout",
     "output_type": "stream",
     "text": [
      "[ 0  0  0  0  0  0  0  0  0  0  0  0  0  0  1  1  1  1  1  1  1  1  1  1\n",
      "  1  1  1  1  2  2  2  2  2  2  2  2  2  2  2  2  2  2  3  3  3  3  3  3\n",
      "  3  3  3  3  3  3  3  3  4  4  4  4  4  4  4  4  4  4  4  4  4  4  6  6\n",
      "  6  6  6  6  6  6  6  6  6  6  6  6  7  7  7  7  7  7  7  7  7  7  7  7\n",
      "  7  7  8  8  8  8  8  8  8  8  8  8  8  8  8  8 10 10 10 10 10 10 10 10\n",
      " 10 10 10 10 11 11 11 11 11 11 11 11 11 11 11 11 11 11 12 12 12 12 12 12\n",
      " 12 12 12 12 12 12 12 12 13 13 13 13 13 13 13 13 13 13 13 13 13 13 14 14\n",
      " 14 14 14 14 14 14 14 14 14 14 14 14 15 15 15 15 15 15 15 15 15 15 15 15\n",
      " 15 16 16 16 16 16 16 16 16 16 16 16 16 16 17 17 17 17 17 17 17 17 17 17\n",
      " 17 17 17 17 19 19 19 19 19 19 19 19 19 19 19 19 19 19 20 20 20 20 20 20\n",
      " 20 20 20 20 20 20 20 20 21 21 21 21 21 21 21 21 21 21 21 21 21 21 22 22\n",
      " 22 22 22 22 22 22 22 22 22 22 22 22 23 23 23 23 23 23 23 23 23 23 23 23\n",
      " 23 23 24 24 24 24 24 24 24 24 24 24 24 24 24 24 25 25 25 25 25 25 25 25\n",
      " 25 25 25 25 25 25 26 26 26 26 26 26 26 26 26 26 26 26 26 26 26 26 27 27\n",
      " 27 27 27 27 27 27 27 27 27 27 27 27 28 28 28 28 28 28 28 28 28 28 28 28\n",
      " 28 29 29 29 29 29 29 29 29 29 29 29 29 29 29]\n"
     ]
    }
   ],
   "source": [
    "targets = np.array(targets)\n",
    "print(targets)"
   ]
  },
  {
   "cell_type": "code",
   "execution_count": 7,
   "metadata": {},
   "outputs": [],
   "source": [
    "num_cat = len(categories)\n",
    "num_land = len(np.unique(landmarks))"
   ]
  },
  {
   "cell_type": "code",
   "execution_count": 8,
   "metadata": {},
   "outputs": [
    {
     "name": "stderr",
     "output_type": "stream",
     "text": [
      "C:\\Users\\Bryan\\AppData\\Local\\Temp\\ipykernel_50028\\3471987417.py:1: VisibleDeprecationWarning: Creating an ndarray from ragged nested sequences (which is a list-or-tuple of lists-or-tuples-or ndarrays with different lengths or shapes) is deprecated. If you meant to do this, you must specify 'dtype=object' when creating the ndarray.\n",
      "  image_array = np.array(images)\n"
     ]
    }
   ],
   "source": [
    "image_array = np.array(images)\n",
    "for i in range(len(image_array)):\n",
    "    if image_array[i] is not None:\n",
    "        # resizing images\n",
    "        image_array[i] = tf.image.resize(image_array[i], [224, 224])\n",
    "        # normalization\n",
    "        # image_array[i] = image_array[i] / 255.0\n"
   ]
  },
  {
   "cell_type": "code",
   "execution_count": 9,
   "metadata": {},
   "outputs": [],
   "source": [
    "all_img = np.empty((len(image_array),) + image_array[0].shape)\n",
    "\n",
    "for i in range(len(image_array)):\n",
    "    all_img[i, :, :, :] = image_array[i]"
   ]
  },
  {
   "cell_type": "code",
   "execution_count": 10,
   "metadata": {},
   "outputs": [
    {
     "name": "stdout",
     "output_type": "stream",
     "text": [
      "240 60 75\n"
     ]
    }
   ],
   "source": [
    "X_train, X_test, y_train, y_test = train_test_split(all_img, targets, test_size=0.2, stratify=targets, random_state=32)\n",
    "X_train, X_valid, y_train, y_valid = train_test_split(X_train, y_train, test_size=0.2, stratify=y_train, random_state=32)\n",
    "print(len(X_train), len(X_valid), len(X_test))"
   ]
  },
  {
   "cell_type": "code",
   "execution_count": 11,
   "metadata": {},
   "outputs": [],
   "source": [
    "# apply 90 degree rotation to the images\n",
    "# aug_rot = tf.image.rot90(X_train, k=1).numpy()\n",
    "# X_train_aug = np.concatenate([X_train, aug_rot], axis=0)\n",
    "X_train_aug = X_train\n",
    "y_train_aug = y_train\n",
    "\n",
    "# for i in range(2):\n",
    "# apply random flip augmentation\n",
    "aug_flip = tf.image.transpose(X_train)\n",
    "aug_flip = aug_flip.numpy()\n",
    "X_train_aug = np.concatenate([X_train_aug, aug_flip], axis=0)\n",
    "y_train_aug = np.append(y_train_aug, y_train)\n",
    "\n",
    "# apply random brightness augmentation\n",
    "aug_bright = tf.image.random_brightness(X_train, 0.3).numpy()\n",
    "X_train_aug = np.concatenate([X_train_aug, aug_bright], axis=0)\n",
    "y_train_aug = np.append(y_train_aug, y_train)\n",
    "\n",
    "# apply random contrast to the images\n",
    "aug_contrast = tf.image.random_contrast(X_train, 0.2, 0.7).numpy()\n",
    "X_train_aug = np.concatenate([X_train_aug, aug_contrast], axis=0)\n",
    "y_train_aug = np.append(y_train_aug, y_train)\n",
    "\n",
    "# apply random hue to the images\n",
    "aug_hue = tf.image.random_hue(X_train, 0.2).numpy()\n",
    "X_train_aug = np.concatenate([X_train_aug, aug_hue], axis=0)\n",
    "y_train_aug = np.append(y_train_aug, y_train)\n"
   ]
  },
  {
   "cell_type": "code",
   "execution_count": 12,
   "metadata": {},
   "outputs": [],
   "source": [
    "from tensorflow.keras.preprocessing.image import ImageDataGenerator\n",
    "\n",
    "# # Define the augmentation parameters for training data\n",
    "# train_datagen = ImageDataGenerator(\n",
    "#     rescale=1.0/255.,\n",
    "#     rotation_range=20,\n",
    "#     width_shift_range=0.2,\n",
    "#     height_shift_range=0.2,\n",
    "#     shear_range=0.2,\n",
    "#     zoom_range=0.2,\n",
    "#     # brightness_range=[0.1, 1.5],\n",
    "#     horizontal_flip=True,\n",
    "#     fill_mode='nearest',\n",
    "#     # validation_split=0.2,\n",
    "#     preprocessing_function=tf.keras.applications.efficientnet.preprocess_input)\n",
    "\n",
    "# train_datagen.fit(X_train)\n",
    "\n",
    "# Define the augmentation and preprocess parameters for training data\n",
    "datagen = ImageDataGenerator(\n",
    "    #rotation_range=10,\n",
    "    width_shift_range=0.1,\n",
    "    height_shift_range=0.1,\n",
    "    fill_mode='nearest',\n",
    "    # rescale=1.0/255.,\n",
    "    # already includes normalization and scaling\n",
    "    preprocessing_function=tf.keras.applications.efficientnet.preprocess_input)\n",
    "\n",
    "# Define the preprocess parameters for training data\n",
    "preprocess_eff = ImageDataGenerator(\n",
    "    #rotation_range=10,\n",
    "    # width_shift_range=0.1,\n",
    "    # height_shift_range=0.1,\n",
    "    # fill_mode='nearest',\n",
    "    # rescale=1.0/255.,\n",
    "    # already includes normalization and scaling\n",
    "    preprocessing_function=tf.keras.applications.efficientnet.preprocess_input)\n",
    "\n",
    "preprocess_vgg = ImageDataGenerator(\n",
    "    #rotation_range=10,\n",
    "    # width_shift_range=0.1,\n",
    "    # height_shift_range=0.1,\n",
    "    # fill_mode='nearest',\n",
    "    # rescale=1.0/255.,\n",
    "    # already includes normalization and scaling\n",
    "    preprocessing_function=tf.keras.applications.vgg16.preprocess_input)\n",
    "\n"
   ]
  },
  {
   "cell_type": "code",
   "execution_count": 13,
   "metadata": {},
   "outputs": [
    {
     "name": "stdout",
     "output_type": "stream",
     "text": [
      "150 8 10\n"
     ]
    }
   ],
   "source": [
    "# Preprocess and augment the images and targets using the data generator\n",
    "num_batch = 8\n",
    "X_train_pre = preprocess_eff.flow(X_train_aug, y_train_aug, batch_size=num_batch)\n",
    "X_valid_pre = preprocess_eff.flow(X_valid, y_valid, batch_size=num_batch)\n",
    "X_test_pre = preprocess_eff.flow(X_test, y_test, batch_size=num_batch)\n",
    "print(len(X_train_pre), len(X_valid_pre), len(X_test_pre))"
   ]
  },
  {
   "cell_type": "code",
   "execution_count": 14,
   "metadata": {},
   "outputs": [],
   "source": [
    "# eff_pre = tf.keras.Sequential([\n",
    "# #   layers.experimental.preprocessing.Resizing(224,224),\n",
    "# #   layers.experimental.preprocessing.Rescaling(1./255),\n",
    "# #   layers.experimental.preprocessing.RandomFlip(\"horizontal\"),\n",
    "# #   layers.experimental.preprocessing.RandomRotation(0.1),\n",
    "#   tf.keras.layers.experimental.preprocessing.RandomZoom(0.1),\n",
    "# #   layers.experimental.preprocessing.RandomContrast(0.1),\n",
    "#   tf.keras.layers.RandomRotation(factor=0.05, seed=42),\n",
    "#   tf.keras.layers.Lambda(tf.keras.applications.efficientnet.preprocess_input)\n",
    "# ])\n",
    "\n",
    "# Setup EarlyStopping callback to stop training if model's val_loss doesn't improve for 3 epochs\n",
    "early_stopping = tf.keras.callbacks.EarlyStopping(monitor = \"val_loss\", # watch the val loss metric\n",
    "                               patience = 5,\n",
    "                               restore_best_weights = True)"
   ]
  },
  {
   "cell_type": "code",
   "execution_count": 15,
   "metadata": {},
   "outputs": [],
   "source": [
    "# Load the pre-trained EfficientNetB0 model\n",
    "vgg16_model = tf.keras.applications.VGG16(weights='imagenet', include_top=False, input_shape=(224, 224, 3))"
   ]
  },
  {
   "cell_type": "code",
   "execution_count": 16,
   "metadata": {},
   "outputs": [
    {
     "name": "stdout",
     "output_type": "stream",
     "text": [
      "Model: \"model\"\n",
      "_________________________________________________________________\n",
      " Layer (type)                Output Shape              Param #   \n",
      "=================================================================\n",
      " input_1 (InputLayer)        [(None, 224, 224, 3)]     0         \n",
      "                                                                 \n",
      " block1_conv1 (Conv2D)       (None, 224, 224, 64)      1792      \n",
      "                                                                 \n",
      " block1_conv2 (Conv2D)       (None, 224, 224, 64)      36928     \n",
      "                                                                 \n",
      " block1_pool (MaxPooling2D)  (None, 112, 112, 64)      0         \n",
      "                                                                 \n",
      " block2_conv1 (Conv2D)       (None, 112, 112, 128)     73856     \n",
      "                                                                 \n",
      " block2_conv2 (Conv2D)       (None, 112, 112, 128)     147584    \n",
      "                                                                 \n",
      " block2_pool (MaxPooling2D)  (None, 56, 56, 128)       0         \n",
      "                                                                 \n",
      " block3_conv1 (Conv2D)       (None, 56, 56, 256)       295168    \n",
      "                                                                 \n",
      " block3_conv2 (Conv2D)       (None, 56, 56, 256)       590080    \n",
      "                                                                 \n",
      " block3_conv3 (Conv2D)       (None, 56, 56, 256)       590080    \n",
      "                                                                 \n",
      " block3_pool (MaxPooling2D)  (None, 28, 28, 256)       0         \n",
      "                                                                 \n",
      " block4_conv1 (Conv2D)       (None, 28, 28, 512)       1180160   \n",
      "                                                                 \n",
      " block4_conv2 (Conv2D)       (None, 28, 28, 512)       2359808   \n",
      "                                                                 \n",
      " block4_conv3 (Conv2D)       (None, 28, 28, 512)       2359808   \n",
      "                                                                 \n",
      " block4_pool (MaxPooling2D)  (None, 14, 14, 512)       0         \n",
      "                                                                 \n",
      " block5_conv1 (Conv2D)       (None, 14, 14, 512)       2359808   \n",
      "                                                                 \n",
      " block5_conv2 (Conv2D)       (None, 14, 14, 512)       2359808   \n",
      "                                                                 \n",
      " block5_conv3 (Conv2D)       (None, 14, 14, 512)       2359808   \n",
      "                                                                 \n",
      " block5_pool (MaxPooling2D)  (None, 7, 7, 512)         0         \n",
      "                                                                 \n",
      " global_average_pooling2d (G  (None, 512)              0         \n",
      " lobalAveragePooling2D)                                          \n",
      "                                                                 \n",
      " dropout (Dropout)           (None, 512)               0         \n",
      "                                                                 \n",
      " flatten (Flatten)           (None, 512)               0         \n",
      "                                                                 \n",
      " dense (Dense)               (None, 1024)              525312    \n",
      "                                                                 \n",
      " dropout_1 (Dropout)         (None, 1024)              0         \n",
      "                                                                 \n",
      " dense_1 (Dense)             (None, 30)                30750     \n",
      "                                                                 \n",
      "=================================================================\n",
      "Total params: 15,270,750\n",
      "Trainable params: 556,062\n",
      "Non-trainable params: 14,714,688\n",
      "_________________________________________________________________\n"
     ]
    }
   ],
   "source": [
    "vgg_x = tf.keras.layers.GlobalAveragePooling2D()(vgg16_model.output)\n",
    "vgg_x = tf.keras.layers.Dropout(0.45)(vgg_x)\n",
    "vgg_x = tf.keras.layers.Flatten()(vgg_x)\n",
    "vgg_x = tf.keras.layers.Dense(units=1024, activation='relu')(vgg_x)\n",
    "vgg_x = tf.keras.layers.Dropout(0.45)(vgg_x)\n",
    "# vgg_x = tf.keras.layers.Dense(units=512, activation='relu')(vgg_x)\n",
    "# vgg_x = tf.keras.layers.Dropout(0.45)(vgg_x)\n",
    "# vgg_x = tf.keras.layers.Dense(units=512, activation='relu')(vgg_x)\n",
    "# vgg_x = tf.keras.layers.Dropout(0.45)(vgg_x)\n",
    "# vgg_x = tf.keras.layers.Dense(256,activation='relu')(vgg_x)\n",
    "# vgg_x = tf.keras.layers.Dropout(0.5)(vgg_x)\n",
    "# vgg_x = tf.keras.layers.Dense(128,activation='relu')(vgg_x)\n",
    "# vgg_x =tf.keras.layers.Dropout(0.5)(vgg_x)\n",
    "# vgg_x =tf.keras.layers.Dense(64,activation='relu')(vgg_x)\n",
    "# vgg_x =tf.keras.layers.Dropout(0.5)(vgg_x)\n",
    "# vgg_x =tf.keras.layers.Dense(32,activation='relu')(vgg_x)\n",
    "# vgg_x =tf.keras.layers.Dropout(0.5)(vgg_x)\n",
    "vgg_output = tf.keras.layers.Dense(units=num_land, activation=\"softmax\")(vgg_x)\n",
    "\n",
    "model_vgg = tf.keras.Model(inputs=vgg16_model.input, outputs=vgg_output)\n",
    "\n",
    "# for layer in vgg16_model.layers[:-10]:\n",
    "# for layer in vgg16_model.layers:\n",
    "#     layer.trainable = True\n",
    "\n",
    "# Unfreeze the top 2 convolutional blocks \n",
    "# for layer in vgg16_model.layers[4:]:\n",
    "#     layer.trainable = True\n",
    "for layer in vgg16_model.layers:\n",
    "    layer.trainable = False\n",
    "\n",
    "optimizer = tf.keras.optimizers.SGD(learning_rate=0.001, momentum=0.9)\n",
    "# optimizer = tf.keras.optimizers.Adam(learning_rate=0.01)\n",
    "model_vgg.compile(loss=\"sparse_categorical_crossentropy\", optimizer=optimizer,\n",
    "              metrics=[\"accuracy\"])\n",
    "model_vgg.summary()"
   ]
  },
  {
   "cell_type": "code",
   "execution_count": 17,
   "metadata": {},
   "outputs": [
    {
     "name": "stdout",
     "output_type": "stream",
     "text": [
      "Epoch 1/30\n",
      "150/150 [==============================] - 16s 38ms/step - loss: 8.7643 - accuracy: 0.2708 - val_loss: 1.5195 - val_accuracy: 0.6167\n",
      "Epoch 2/30\n",
      "150/150 [==============================] - 5s 31ms/step - loss: 2.6027 - accuracy: 0.4142 - val_loss: 1.7110 - val_accuracy: 0.6167\n",
      "Epoch 3/30\n",
      "150/150 [==============================] - 5s 31ms/step - loss: 2.0596 - accuracy: 0.4592 - val_loss: 1.3730 - val_accuracy: 0.6833\n",
      "Epoch 4/30\n",
      "150/150 [==============================] - 5s 31ms/step - loss: 1.8729 - accuracy: 0.5142 - val_loss: 1.2632 - val_accuracy: 0.6500\n",
      "Epoch 5/30\n",
      "150/150 [==============================] - 5s 31ms/step - loss: 1.7659 - accuracy: 0.5467 - val_loss: 1.4978 - val_accuracy: 0.6000\n",
      "Epoch 6/30\n",
      "150/150 [==============================] - 5s 31ms/step - loss: 1.6514 - accuracy: 0.5617 - val_loss: 1.1281 - val_accuracy: 0.6833\n",
      "Epoch 7/30\n",
      "150/150 [==============================] - 5s 33ms/step - loss: 1.4902 - accuracy: 0.6083 - val_loss: 1.0623 - val_accuracy: 0.7000\n",
      "Epoch 8/30\n",
      "150/150 [==============================] - 6s 37ms/step - loss: 1.6512 - accuracy: 0.5983 - val_loss: 0.8664 - val_accuracy: 0.8000\n",
      "Epoch 9/30\n",
      "150/150 [==============================] - 6s 38ms/step - loss: 1.4533 - accuracy: 0.6300 - val_loss: 0.9080 - val_accuracy: 0.8000\n",
      "Epoch 10/30\n",
      "150/150 [==============================] - 6s 39ms/step - loss: 1.3893 - accuracy: 0.6400 - val_loss: 0.9353 - val_accuracy: 0.7667\n",
      "Epoch 11/30\n",
      "150/150 [==============================] - 6s 40ms/step - loss: 1.2579 - accuracy: 0.6767 - val_loss: 0.8550 - val_accuracy: 0.8000\n",
      "Epoch 12/30\n",
      "150/150 [==============================] - 6s 38ms/step - loss: 1.1605 - accuracy: 0.6875 - val_loss: 0.7749 - val_accuracy: 0.7833\n",
      "Epoch 13/30\n",
      "150/150 [==============================] - 5s 36ms/step - loss: 1.1309 - accuracy: 0.6933 - val_loss: 0.6947 - val_accuracy: 0.8333\n",
      "Epoch 14/30\n",
      "150/150 [==============================] - 5s 36ms/step - loss: 1.1304 - accuracy: 0.7092 - val_loss: 0.8831 - val_accuracy: 0.7500\n",
      "Epoch 15/30\n",
      "150/150 [==============================] - 5s 36ms/step - loss: 1.1033 - accuracy: 0.7133 - val_loss: 0.7391 - val_accuracy: 0.7500\n",
      "Epoch 16/30\n",
      "150/150 [==============================] - 6s 40ms/step - loss: 1.1371 - accuracy: 0.7233 - val_loss: 0.8632 - val_accuracy: 0.7833\n",
      "Epoch 17/30\n",
      "150/150 [==============================] - 7s 43ms/step - loss: 0.9923 - accuracy: 0.7425 - val_loss: 0.7587 - val_accuracy: 0.8333\n",
      "Epoch 18/30\n",
      "150/150 [==============================] - 7s 44ms/step - loss: 1.1107 - accuracy: 0.7342 - val_loss: 0.6935 - val_accuracy: 0.8333\n",
      "Epoch 19/30\n",
      "150/150 [==============================] - 7s 43ms/step - loss: 1.0819 - accuracy: 0.7292 - val_loss: 0.8200 - val_accuracy: 0.7500\n",
      "Epoch 20/30\n",
      "150/150 [==============================] - 7s 43ms/step - loss: 0.9908 - accuracy: 0.7367 - val_loss: 0.6970 - val_accuracy: 0.8500\n",
      "Epoch 21/30\n",
      "150/150 [==============================] - 7s 44ms/step - loss: 0.9686 - accuracy: 0.7525 - val_loss: 0.7780 - val_accuracy: 0.7833\n",
      "Epoch 22/30\n",
      "150/150 [==============================] - 7s 46ms/step - loss: 0.8841 - accuracy: 0.7783 - val_loss: 0.6728 - val_accuracy: 0.8500\n",
      "Epoch 23/30\n",
      "150/150 [==============================] - 7s 44ms/step - loss: 1.0192 - accuracy: 0.7517 - val_loss: 0.6297 - val_accuracy: 0.8667\n",
      "Epoch 24/30\n",
      "150/150 [==============================] - 7s 46ms/step - loss: 0.8696 - accuracy: 0.7875 - val_loss: 0.6924 - val_accuracy: 0.7833\n",
      "Epoch 25/30\n",
      "150/150 [==============================] - 7s 46ms/step - loss: 1.0079 - accuracy: 0.7542 - val_loss: 0.6169 - val_accuracy: 0.8500\n",
      "Epoch 26/30\n",
      "150/150 [==============================] - 7s 46ms/step - loss: 0.8871 - accuracy: 0.7750 - val_loss: 0.7024 - val_accuracy: 0.8000\n",
      "Epoch 27/30\n",
      "150/150 [==============================] - 7s 46ms/step - loss: 0.8947 - accuracy: 0.7758 - val_loss: 0.5179 - val_accuracy: 0.8667\n",
      "Epoch 28/30\n",
      "150/150 [==============================] - 7s 45ms/step - loss: 0.9012 - accuracy: 0.7767 - val_loss: 0.5243 - val_accuracy: 0.8667\n",
      "Epoch 29/30\n",
      "150/150 [==============================] - 7s 46ms/step - loss: 0.8122 - accuracy: 0.7925 - val_loss: 0.5975 - val_accuracy: 0.8000\n",
      "Epoch 30/30\n",
      "150/150 [==============================] - 7s 46ms/step - loss: 0.7767 - accuracy: 0.8017 - val_loss: 0.5883 - val_accuracy: 0.8667\n"
     ]
    }
   ],
   "source": [
    "vgg_history = model_vgg.fit(X_train_pre, validation_data=X_valid_pre, epochs=30, callbacks=[early_stopping])"
   ]
  },
  {
   "cell_type": "code",
   "execution_count": 18,
   "metadata": {},
   "outputs": [
    {
     "data": {
      "image/png": "[encoded data removed]",
      "text/plain": [
       "<Figure size 800x500 with 1 Axes>"
      ]
     },
     "metadata": {},
     "output_type": "display_data"
    }
   ],
   "source": [
    "pd.DataFrame(vgg_history.history).plot(\n",
    "    figsize=(8, 5), grid=True, xlabel=\"Epoch\",\n",
    "    style=[\"r--\", \"r--.\", \"b-\", \"b-*\"])\n",
    "plt.show()"
   ]
  },
  {
   "cell_type": "code",
   "execution_count": 19,
   "metadata": {},
   "outputs": [
    {
     "name": "stdout",
     "output_type": "stream",
     "text": [
      "10/10 [==============================] - 1s 91ms/step - loss: 0.8200 - accuracy: 0.7600\n"
     ]
    },
    {
     "data": {
      "text/plain": [
       "[0.8199983239173889, 0.7599999904632568]"
      ]
     },
     "execution_count": 19,
     "metadata": {},
     "output_type": "execute_result"
    }
   ],
   "source": [
    "model_vgg.evaluate(X_test_pre, verbose = 1)"
   ]
  },
  {
   "cell_type": "code",
   "execution_count": 20,
   "metadata": {},
   "outputs": [
    {
     "name": "stdout",
     "output_type": "stream",
     "text": [
      "Accuracy on the test set is 0.76\n",
      "Precision on the test set is 0.8432098765432099\n",
      "Recall on the test set is 0.771604938271605\n",
      "F1-score on the test set is 0.7520282186948853\n",
      "The precision and recall values by class_id on the test set:\n",
      "              precision    recall  f1-score   support\n",
      "\n",
      "           0       1.00      0.67      0.80         3\n",
      "           1       1.00      0.33      0.50         3\n",
      "           2       0.75      1.00      0.86         3\n",
      "           3       1.00      0.67      0.80         3\n",
      "           4       0.50      0.67      0.57         3\n",
      "           6       1.00      0.67      0.80         3\n",
      "           7       0.50      1.00      0.67         3\n",
      "           8       1.00      1.00      1.00         3\n",
      "          10       1.00      0.50      0.67         2\n",
      "          11       1.00      1.00      1.00         3\n",
      "          12       0.75      1.00      0.86         3\n",
      "          13       1.00      0.33      0.50         3\n",
      "          14       0.75      1.00      0.86         3\n",
      "          15       1.00      1.00      1.00         2\n",
      "          16       0.67      1.00      0.80         2\n",
      "          17       0.60      1.00      0.75         3\n",
      "          19       0.50      0.33      0.40         3\n",
      "          20       0.40      1.00      0.57         2\n",
      "          21       1.00      0.33      0.50         3\n",
      "          22       1.00      1.00      1.00         2\n",
      "          23       0.75      1.00      0.86         3\n",
      "          24       1.00      0.67      0.80         3\n",
      "          25       1.00      0.33      0.50         3\n",
      "          26       1.00      0.33      0.50         3\n",
      "          27       1.00      1.00      1.00         3\n",
      "          28       1.00      1.00      1.00         2\n",
      "          29       0.60      1.00      0.75         3\n",
      "\n",
      "    accuracy                           0.76        75\n",
      "   macro avg       0.84      0.77      0.75        75\n",
      "weighted avg       0.84      0.76      0.75        75\n",
      "\n"
     ]
    }
   ],
   "source": [
    "from sklearn.metrics import classification_report, precision_score, recall_score, f1_score\n",
    "\n",
    "# report accuracy on the test set\n",
    "y_proba = model_vgg.predict(X_test)\n",
    "y_pred = y_proba.argmax(axis=-1)\n",
    "\n",
    "accuracy = tf.keras.metrics.Accuracy()\n",
    "accuracy.update_state(y_test, y_pred)\n",
    "print('Accuracy on the test set is', accuracy.result().numpy())\n",
    "\n",
    "# report precision on the test set\n",
    "precision = precision_score(y_test, y_pred, average='macro')\n",
    "print('Precision on the test set is', precision)\n",
    "\n",
    "# report recall on the test set\n",
    "recall = recall_score(y_test, y_pred, average='macro')\n",
    "print('Recall on the test set is', recall)\n",
    "\n",
    "# report f1-score on the test set\n",
    "recall = f1_score(y_test, y_pred, average='macro')\n",
    "print('F1-score on the test set is', recall)\n",
    "\n",
    "# report the precision and recall values by class_id on the test set\n",
    "print('The precision and recall values by class_id on the test set:')\n",
    "print(classification_report(y_test, y_pred))"
   ]
  },
  {
   "cell_type": "code",
   "execution_count": null,
   "metadata": {},
   "outputs": [],
   "source": []
  }
 ],
 "metadata": {
  "kernelspec": {
   "display_name": "Python 3",
   "language": "python",
   "name": "python3"
  },
  "language_info": {
   "codemirror_mode": {
    "name": "ipython",
    "version": 3
   },
   "file_extension": ".py",
   "mimetype": "text/x-python",
   "name": "python",
   "nbconvert_exporter": "python",
   "pygments_lexer": "ipython3",
   "version": "3.9.16"
  },
  "orig_nbformat": 4
 },
 "nbformat": 4,
 "nbformat_minor": 2
}

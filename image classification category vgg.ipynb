{
 "cells": [
  {
   "cell_type": "code",
   "execution_count": 1,
   "metadata": {},
   "outputs": [],
   "source": [
    "import os\n",
    "import cv2\n",
    "import numpy as np\n",
    "import tensorflow as tf\n",
    "import matplotlib.pyplot as plt\n",
    "from sklearn.model_selection import train_test_split\n",
    "import pandas as pd\n",
    "#from PIL import Image"
   ]
  },
  {
   "cell_type": "code",
   "execution_count": 2,
   "metadata": {},
   "outputs": [],
   "source": [
    "tf.random.set_seed(40)"
   ]
  },
  {
   "cell_type": "code",
   "execution_count": 3,
   "metadata": {},
   "outputs": [],
   "source": [
    "folder_path = \"C:/Users/Bryan/USC/DSCI 552/final project\"\n",
    "# folder_path = \"/content/drive/Shareddrives/552 Final Project/Landmarks-v1_1\"\n",
    "# folder_path = \"/Users/jerawincel/Documents/USC/DSCI552/552FinalProject/Landmarks-v1_1\"\n",
    "\n"
   ]
  },
  {
   "cell_type": "code",
   "execution_count": 4,
   "metadata": {},
   "outputs": [],
   "source": [
    "# Define landscape categories\n",
    "categories = [\"Gothic\", \"Modern\", \"Mughal\", \"Neoclassical\", \"Pagodas\", \"Pyramids\"]"
   ]
  },
  {
   "cell_type": "code",
   "execution_count": 5,
   "metadata": {},
   "outputs": [],
   "source": [
    "landmarks = []\n",
    "images = []\n",
    "# labels by landmark names\n",
    "targets = []\n",
    "# labels by category names\n",
    "y_cat = []\n",
    "i = 0\n",
    "n_cat = 0\n",
    "\n",
    "for category in categories:\n",
    "    subdir_path = os.path.join(folder_path, category)\n",
    "    #print(subdir_path)\n",
    "    \n",
    "    # Iterate through each subfolder in the parent folder\n",
    "    \n",
    "    for landmark in os.listdir(subdir_path):\n",
    "        if (landmark == '.DS_Store'):\n",
    "          continue\n",
    "        else:\n",
    "          landmarks.append(landmark)\n",
    "          \n",
    "      # Construct the full path to the subfolder\n",
    "          next_path = os.path.join(subdir_path, landmark)\n",
    "          \n",
    "          # Iterate through each image file in the subfolder\n",
    "          for filename in os.listdir(next_path):\n",
    "              # Construct the full path to the image file\n",
    "              image_path = os.path.join(next_path, filename)\n",
    "              try: \n",
    "                # Read the image using OpenCV\n",
    "                image = cv2.imread(image_path)\n",
    "                if image is None:\n",
    "                  continue\n",
    "                else:\n",
    "                  #image = cv2.resize(image, (224, 224))\n",
    "\n",
    "                  # Convert the image to an array and normalize the pixel values\n",
    "                  #img_array = np.array(image) #/ 255.0\n",
    "                  images.append(image)\n",
    "                  targets.append(i)\n",
    "                  y_cat.append(n_cat)\n",
    "                  #break\n",
    "              except Exception as e:\n",
    "                    print(f\"Error processing file {image_path}: {e}\")\n",
    "        i += 1\n",
    "    n_cat += 1\n",
    "\n",
    "\n",
    "            "
   ]
  },
  {
   "cell_type": "code",
   "execution_count": 6,
   "metadata": {},
   "outputs": [
    {
     "name": "stdout",
     "output_type": "stream",
     "text": [
      "[ 0  0  0  0  0  0  0  0  0  0  0  0  0  0  1  1  1  1  1  1  1  1  1  1\n",
      "  1  1  1  1  2  2  2  2  2  2  2  2  2  2  2  2  2  2  3  3  3  3  3  3\n",
      "  3  3  3  3  3  3  3  3  4  4  4  4  4  4  4  4  4  4  4  4  4  4  6  6\n",
      "  6  6  6  6  6  6  6  6  6  6  6  6  7  7  7  7  7  7  7  7  7  7  7  7\n",
      "  7  7  8  8  8  8  8  8  8  8  8  8  8  8  8  8 10 10 10 10 10 10 10 10\n",
      " 10 10 10 10 11 11 11 11 11 11 11 11 11 11 11 11 11 11 12 12 12 12 12 12\n",
      " 12 12 12 12 12 12 12 12 13 13 13 13 13 13 13 13 13 13 13 13 13 13 14 14\n",
      " 14 14 14 14 14 14 14 14 14 14 14 14 15 15 15 15 15 15 15 15 15 15 15 15\n",
      " 15 16 16 16 16 16 16 16 16 16 16 16 16 16 17 17 17 17 17 17 17 17 17 17\n",
      " 17 17 17 17 19 19 19 19 19 19 19 19 19 19 19 19 19 19 20 20 20 20 20 20\n",
      " 20 20 20 20 20 20 20 20 21 21 21 21 21 21 21 21 21 21 21 21 21 21 22 22\n",
      " 22 22 22 22 22 22 22 22 22 22 22 22 23 23 23 23 23 23 23 23 23 23 23 23\n",
      " 23 23 24 24 24 24 24 24 24 24 24 24 24 24 24 24 25 25 25 25 25 25 25 25\n",
      " 25 25 25 25 25 25 26 26 26 26 26 26 26 26 26 26 26 26 26 26 26 26 27 27\n",
      " 27 27 27 27 27 27 27 27 27 27 27 27 28 28 28 28 28 28 28 28 28 28 28 28\n",
      " 28 29 29 29 29 29 29 29 29 29 29 29 29 29 29]\n"
     ]
    }
   ],
   "source": [
    "targets = np.array(targets)\n",
    "print(targets)"
   ]
  },
  {
   "cell_type": "code",
   "execution_count": 7,
   "metadata": {},
   "outputs": [],
   "source": [
    "num_cat = len(categories)\n",
    "num_land = len(np.unique(landmarks))"
   ]
  },
  {
   "cell_type": "code",
   "execution_count": 8,
   "metadata": {},
   "outputs": [
    {
     "name": "stderr",
     "output_type": "stream",
     "text": [
      "C:\\Users\\Bryan\\AppData\\Local\\Temp\\ipykernel_33228\\3471987417.py:1: VisibleDeprecationWarning: Creating an ndarray from ragged nested sequences (which is a list-or-tuple of lists-or-tuples-or ndarrays with different lengths or shapes) is deprecated. If you meant to do this, you must specify 'dtype=object' when creating the ndarray.\n",
      "  image_array = np.array(images)\n"
     ]
    }
   ],
   "source": [
    "image_array = np.array(images)\n",
    "for i in range(len(image_array)):\n",
    "    if image_array[i] is not None:\n",
    "        # resizing images\n",
    "        image_array[i] = tf.image.resize(image_array[i], [224, 224])\n",
    "        # normalization\n",
    "        # image_array[i] = image_array[i] / 255.0\n"
   ]
  },
  {
   "cell_type": "code",
   "execution_count": 9,
   "metadata": {},
   "outputs": [],
   "source": [
    "all_img = np.empty((len(image_array),) + image_array[0].shape)\n",
    "\n",
    "for i in range(len(image_array)):\n",
    "    all_img[i, :, :, :] = image_array[i]"
   ]
  },
  {
   "cell_type": "code",
   "execution_count": 10,
   "metadata": {},
   "outputs": [
    {
     "name": "stdout",
     "output_type": "stream",
     "text": [
      "240 60 75\n"
     ]
    }
   ],
   "source": [
    "X_train, X_test, y_train, y_test = train_test_split(all_img, y_cat, test_size=0.2, stratify=y_cat, random_state=32)\n",
    "X_train, X_valid, y_train, y_valid = train_test_split(X_train, y_train, test_size=0.2, stratify=y_train, random_state=32)\n",
    "print(len(X_train), len(X_valid), len(X_test))"
   ]
  },
  {
   "cell_type": "code",
   "execution_count": 11,
   "metadata": {},
   "outputs": [],
   "source": [
    "# apply 90 degree rotation to the images\n",
    "# aug_rot = tf.image.rot90(X_train, k=1).numpy()\n",
    "# X_train_aug = np.concatenate([X_train, aug_rot], axis=0)\n",
    "X_train_aug = X_train\n",
    "y_train_aug = y_train\n",
    "\n",
    "# for i in range(2):\n",
    "# apply random flip augmentation\n",
    "aug_flip = tf.image.transpose(X_train)\n",
    "aug_flip = aug_flip.numpy()\n",
    "X_train_aug = np.concatenate([X_train_aug, aug_flip], axis=0)\n",
    "y_train_aug = np.append(y_train_aug, y_train)\n",
    "\n",
    "# apply random brightness augmentation\n",
    "aug_bright = tf.image.random_brightness(X_train, 0.3).numpy()\n",
    "X_train_aug = np.concatenate([X_train_aug, aug_bright], axis=0)\n",
    "y_train_aug = np.append(y_train_aug, y_train)\n",
    "\n",
    "# apply random contrast to the images\n",
    "aug_contrast = tf.image.random_contrast(X_train, 0.2, 0.7).numpy()\n",
    "X_train_aug = np.concatenate([X_train_aug, aug_contrast], axis=0)\n",
    "y_train_aug = np.append(y_train_aug, y_train)\n",
    "\n",
    "# apply random hue to the images\n",
    "aug_hue = tf.image.random_hue(X_train, 0.2).numpy()\n",
    "X_train_aug = np.concatenate([X_train_aug, aug_hue], axis=0)\n",
    "y_train_aug = np.append(y_train_aug, y_train)\n"
   ]
  },
  {
   "cell_type": "code",
   "execution_count": 12,
   "metadata": {},
   "outputs": [],
   "source": [
    "from tensorflow.keras.preprocessing.image import ImageDataGenerator\n",
    "\n",
    "# # Define the augmentation parameters for training data\n",
    "# train_datagen = ImageDataGenerator(\n",
    "#     rescale=1.0/255.,\n",
    "#     rotation_range=20,\n",
    "#     width_shift_range=0.2,\n",
    "#     height_shift_range=0.2,\n",
    "#     shear_range=0.2,\n",
    "#     zoom_range=0.2,\n",
    "#     # brightness_range=[0.1, 1.5],\n",
    "#     horizontal_flip=True,\n",
    "#     fill_mode='nearest',\n",
    "#     # validation_split=0.2,\n",
    "#     preprocessing_function=tf.keras.applications.efficientnet.preprocess_input)\n",
    "\n",
    "# train_datagen.fit(X_train)\n",
    "\n",
    "# Define the augmentation and preprocess parameters for training data\n",
    "datagen = ImageDataGenerator(\n",
    "    #rotation_range=10,\n",
    "    width_shift_range=0.1,\n",
    "    height_shift_range=0.1,\n",
    "    fill_mode='nearest',\n",
    "    # rescale=1.0/255.,\n",
    "    # already includes normalization and scaling\n",
    "    preprocessing_function=tf.keras.applications.efficientnet.preprocess_input)\n",
    "\n",
    "# Define the preprocess parameters for training data\n",
    "preprocess_eff = ImageDataGenerator(\n",
    "    #rotation_range=10,\n",
    "    # width_shift_range=0.1,\n",
    "    # height_shift_range=0.1,\n",
    "    # fill_mode='nearest',\n",
    "    # rescale=1.0/255.,\n",
    "    # already includes normalization and scaling\n",
    "    preprocessing_function=tf.keras.applications.efficientnet.preprocess_input)\n",
    "\n",
    "preprocess_vgg = ImageDataGenerator(\n",
    "    #rotation_range=10,\n",
    "    # width_shift_range=0.1,\n",
    "    # height_shift_range=0.1,\n",
    "    # fill_mode='nearest',\n",
    "    # rescale=1.0/255.,\n",
    "    # already includes normalization and scaling\n",
    "    preprocessing_function=tf.keras.applications.vgg16.preprocess_input)\n",
    "\n"
   ]
  },
  {
   "cell_type": "code",
   "execution_count": 13,
   "metadata": {},
   "outputs": [
    {
     "name": "stdout",
     "output_type": "stream",
     "text": [
      "150 8 10\n"
     ]
    }
   ],
   "source": [
    "# Preprocess and augment the images and targets using the data generator\n",
    "num_batch = 8\n",
    "X_train_pre = preprocess_eff.flow(X_train_aug, y_train_aug, batch_size=num_batch)\n",
    "X_valid_pre = preprocess_eff.flow(X_valid, y_valid, batch_size=num_batch)\n",
    "X_test_pre = preprocess_eff.flow(X_test, y_test, batch_size=num_batch)\n",
    "print(len(X_train_pre), len(X_valid_pre), len(X_test_pre))"
   ]
  },
  {
   "cell_type": "code",
   "execution_count": 14,
   "metadata": {},
   "outputs": [],
   "source": [
    "# eff_pre = tf.keras.Sequential([\n",
    "# #   layers.experimental.preprocessing.Resizing(224,224),\n",
    "# #   layers.experimental.preprocessing.Rescaling(1./255),\n",
    "# #   layers.experimental.preprocessing.RandomFlip(\"horizontal\"),\n",
    "# #   layers.experimental.preprocessing.RandomRotation(0.1),\n",
    "#   tf.keras.layers.experimental.preprocessing.RandomZoom(0.1),\n",
    "# #   layers.experimental.preprocessing.RandomContrast(0.1),\n",
    "#   tf.keras.layers.RandomRotation(factor=0.05, seed=42),\n",
    "#   tf.keras.layers.Lambda(tf.keras.applications.efficientnet.preprocess_input)\n",
    "# ])\n",
    "\n",
    "# Setup EarlyStopping callback to stop training if model's val_loss doesn't improve for 3 epochs\n",
    "early_stopping = tf.keras.callbacks.EarlyStopping(monitor = \"val_loss\", # watch the val loss metric\n",
    "                               patience = 5,\n",
    "                               restore_best_weights = True)"
   ]
  },
  {
   "cell_type": "code",
   "execution_count": 15,
   "metadata": {},
   "outputs": [],
   "source": [
    "# Load the pre-trained EfficientNetB0 model\n",
    "vgg16_model = tf.keras.applications.VGG16(weights='imagenet', include_top=False, input_shape=(224, 224, 3))"
   ]
  },
  {
   "cell_type": "code",
   "execution_count": 16,
   "metadata": {},
   "outputs": [
    {
     "name": "stdout",
     "output_type": "stream",
     "text": [
      "Model: \"model\"\n",
      "_________________________________________________________________\n",
      " Layer (type)                Output Shape              Param #   \n",
      "=================================================================\n",
      " input_1 (InputLayer)        [(None, 224, 224, 3)]     0         \n",
      "                                                                 \n",
      " block1_conv1 (Conv2D)       (None, 224, 224, 64)      1792      \n",
      "                                                                 \n",
      " block1_conv2 (Conv2D)       (None, 224, 224, 64)      36928     \n",
      "                                                                 \n",
      " block1_pool (MaxPooling2D)  (None, 112, 112, 64)      0         \n",
      "                                                                 \n",
      " block2_conv1 (Conv2D)       (None, 112, 112, 128)     73856     \n",
      "                                                                 \n",
      " block2_conv2 (Conv2D)       (None, 112, 112, 128)     147584    \n",
      "                                                                 \n",
      " block2_pool (MaxPooling2D)  (None, 56, 56, 128)       0         \n",
      "                                                                 \n",
      " block3_conv1 (Conv2D)       (None, 56, 56, 256)       295168    \n",
      "                                                                 \n",
      " block3_conv2 (Conv2D)       (None, 56, 56, 256)       590080    \n",
      "                                                                 \n",
      " block3_conv3 (Conv2D)       (None, 56, 56, 256)       590080    \n",
      "                                                                 \n",
      " block3_pool (MaxPooling2D)  (None, 28, 28, 256)       0         \n",
      "                                                                 \n",
      " block4_conv1 (Conv2D)       (None, 28, 28, 512)       1180160   \n",
      "                                                                 \n",
      " block4_conv2 (Conv2D)       (None, 28, 28, 512)       2359808   \n",
      "                                                                 \n",
      " block4_conv3 (Conv2D)       (None, 28, 28, 512)       2359808   \n",
      "                                                                 \n",
      " block4_pool (MaxPooling2D)  (None, 14, 14, 512)       0         \n",
      "                                                                 \n",
      " block5_conv1 (Conv2D)       (None, 14, 14, 512)       2359808   \n",
      "                                                                 \n",
      " block5_conv2 (Conv2D)       (None, 14, 14, 512)       2359808   \n",
      "                                                                 \n",
      " block5_conv3 (Conv2D)       (None, 14, 14, 512)       2359808   \n",
      "                                                                 \n",
      " block5_pool (MaxPooling2D)  (None, 7, 7, 512)         0         \n",
      "                                                                 \n",
      " global_average_pooling2d (G  (None, 512)              0         \n",
      " lobalAveragePooling2D)                                          \n",
      "                                                                 \n",
      " dropout (Dropout)           (None, 512)               0         \n",
      "                                                                 \n",
      " flatten (Flatten)           (None, 512)               0         \n",
      "                                                                 \n",
      " dense (Dense)               (None, 1024)              525312    \n",
      "                                                                 \n",
      " dropout_1 (Dropout)         (None, 1024)              0         \n",
      "                                                                 \n",
      " dense_1 (Dense)             (None, 30)                30750     \n",
      "                                                                 \n",
      "=================================================================\n",
      "Total params: 15,270,750\n",
      "Trainable params: 556,062\n",
      "Non-trainable params: 14,714,688\n",
      "_________________________________________________________________\n"
     ]
    }
   ],
   "source": [
    "vgg_x = tf.keras.layers.GlobalAveragePooling2D()(vgg16_model.output)\n",
    "vgg_x = tf.keras.layers.Dropout(0.45)(vgg_x)\n",
    "vgg_x = tf.keras.layers.Flatten()(vgg_x)\n",
    "vgg_x = tf.keras.layers.Dense(units=1024, activation='relu')(vgg_x)\n",
    "vgg_x = tf.keras.layers.Dropout(0.45)(vgg_x)\n",
    "# vgg_x = tf.keras.layers.Dense(units=512, activation='relu')(vgg_x)\n",
    "# vgg_x = tf.keras.layers.Dropout(0.45)(vgg_x)\n",
    "# vgg_x = tf.keras.layers.Dense(units=512, activation='relu')(vgg_x)\n",
    "# vgg_x = tf.keras.layers.Dropout(0.45)(vgg_x)\n",
    "# vgg_x = tf.keras.layers.Dense(256,activation='relu')(vgg_x)\n",
    "# vgg_x = tf.keras.layers.Dropout(0.5)(vgg_x)\n",
    "# vgg_x = tf.keras.layers.Dense(128,activation='relu')(vgg_x)\n",
    "# vgg_x =tf.keras.layers.Dropout(0.5)(vgg_x)\n",
    "# vgg_x =tf.keras.layers.Dense(64,activation='relu')(vgg_x)\n",
    "# vgg_x =tf.keras.layers.Dropout(0.5)(vgg_x)\n",
    "# vgg_x =tf.keras.layers.Dense(32,activation='relu')(vgg_x)\n",
    "# vgg_x =tf.keras.layers.Dropout(0.5)(vgg_x)\n",
    "vgg_output = tf.keras.layers.Dense(units=num_land, activation=\"softmax\")(vgg_x)\n",
    "\n",
    "model_vgg = tf.keras.Model(inputs=vgg16_model.input, outputs=vgg_output)\n",
    "\n",
    "# for layer in vgg16_model.layers[:-10]:\n",
    "# for layer in vgg16_model.layers:\n",
    "#     layer.trainable = True\n",
    "\n",
    "# Unfreeze the top 2 convolutional blocks \n",
    "# for layer in vgg16_model.layers[4:]:\n",
    "#     layer.trainable = True\n",
    "for layer in vgg16_model.layers:\n",
    "    layer.trainable = False\n",
    "\n",
    "optimizer = tf.keras.optimizers.SGD(learning_rate=0.001, momentum=0.9)\n",
    "# optimizer = tf.keras.optimizers.Adam(learning_rate=0.01)\n",
    "model_vgg.compile(loss=\"sparse_categorical_crossentropy\", optimizer=optimizer,\n",
    "              metrics=[\"accuracy\"])\n",
    "model_vgg.summary()"
   ]
  },
  {
   "cell_type": "code",
   "execution_count": 17,
   "metadata": {},
   "outputs": [
    {
     "name": "stdout",
     "output_type": "stream",
     "text": [
      "Epoch 1/30\n",
      "150/150 [==============================] - 15s 38ms/step - loss: 10.0403 - accuracy: 0.5400 - val_loss: 3.7365 - val_accuracy: 0.6167\n",
      "Epoch 2/30\n",
      "150/150 [==============================] - 5s 31ms/step - loss: 3.2170 - accuracy: 0.6725 - val_loss: 2.0944 - val_accuracy: 0.6333\n",
      "Epoch 3/30\n",
      "150/150 [==============================] - 5s 31ms/step - loss: 1.5716 - accuracy: 0.7475 - val_loss: 0.9383 - val_accuracy: 0.7833\n",
      "Epoch 4/30\n",
      "150/150 [==============================] - 5s 31ms/step - loss: 1.1500 - accuracy: 0.7758 - val_loss: 0.7479 - val_accuracy: 0.8833\n",
      "Epoch 5/30\n",
      "150/150 [==============================] - 5s 31ms/step - loss: 0.9924 - accuracy: 0.8050 - val_loss: 0.6377 - val_accuracy: 0.8500\n",
      "Epoch 6/30\n",
      "150/150 [==============================] - 5s 31ms/step - loss: 0.9019 - accuracy: 0.7967 - val_loss: 0.7557 - val_accuracy: 0.8667\n",
      "Epoch 7/30\n",
      "150/150 [==============================] - 5s 32ms/step - loss: 0.8215 - accuracy: 0.8125 - val_loss: 0.6260 - val_accuracy: 0.8667\n",
      "Epoch 8/30\n",
      "150/150 [==============================] - 5s 33ms/step - loss: 0.8380 - accuracy: 0.8242 - val_loss: 0.5548 - val_accuracy: 0.8667\n",
      "Epoch 9/30\n",
      "150/150 [==============================] - 5s 33ms/step - loss: 1.0107 - accuracy: 0.7967 - val_loss: 0.8836 - val_accuracy: 0.8000\n",
      "Epoch 10/30\n",
      "150/150 [==============================] - 5s 34ms/step - loss: 0.7199 - accuracy: 0.8275 - val_loss: 1.1255 - val_accuracy: 0.7667\n",
      "Epoch 11/30\n",
      "150/150 [==============================] - 5s 35ms/step - loss: 0.6169 - accuracy: 0.8433 - val_loss: 0.6275 - val_accuracy: 0.8667\n",
      "Epoch 12/30\n",
      "150/150 [==============================] - 6s 37ms/step - loss: 0.6438 - accuracy: 0.8642 - val_loss: 0.8390 - val_accuracy: 0.8333\n",
      "Epoch 13/30\n",
      "150/150 [==============================] - 5s 36ms/step - loss: 0.5867 - accuracy: 0.8625 - val_loss: 0.8953 - val_accuracy: 0.8500\n"
     ]
    }
   ],
   "source": [
    "vgg_history = model_vgg.fit(X_train_pre, validation_data=X_valid_pre, epochs=30, callbacks=[early_stopping])"
   ]
  },
  {
   "cell_type": "code",
   "execution_count": 18,
   "metadata": {},
   "outputs": [
    {
     "data": {
      "image/png": "[encoded data removed]",
      "text/plain": [
       "<Figure size 800x500 with 1 Axes>"
      ]
     },
     "metadata": {},
     "output_type": "display_data"
    }
   ],
   "source": [
    "pd.DataFrame(vgg_history.history).plot(\n",
    "    figsize=(8, 5), grid=True, xlabel=\"Epoch\",\n",
    "    style=[\"r--\", \"r--.\", \"b-\", \"b-*\"])\n",
    "plt.show()"
   ]
  },
  {
   "cell_type": "code",
   "execution_count": 19,
   "metadata": {},
   "outputs": [
    {
     "name": "stdout",
     "output_type": "stream",
     "text": [
      "10/10 [==============================] - 1s 91ms/step - loss: 0.3337 - accuracy: 0.9200\n"
     ]
    },
    {
     "data": {
      "text/plain": [
       "[0.333662211894989, 0.9200000166893005]"
      ]
     },
     "execution_count": 19,
     "metadata": {},
     "output_type": "execute_result"
    }
   ],
   "source": [
    "model_vgg.evaluate(X_test_pre, verbose = 1)"
   ]
  },
  {
   "cell_type": "code",
   "execution_count": 20,
   "metadata": {},
   "outputs": [
    {
     "name": "stdout",
     "output_type": "stream",
     "text": [
      "Accuracy on the test set is 0.92\n",
      "Precision on the test set is 0.9279100529100529\n",
      "Recall on the test set is 0.9253246753246752\n",
      "F1-score on the test set is 0.9246757962444238\n",
      "The precision and recall values by class_id on the test set:\n",
      "              precision    recall  f1-score   support\n",
      "\n",
      "           0       1.00      0.93      0.96        14\n",
      "           1       0.89      1.00      0.94         8\n",
      "           2       1.00      0.93      0.96        14\n",
      "           3       1.00      0.91      0.95        11\n",
      "           4       0.93      0.93      0.93        14\n",
      "           5       0.75      0.86      0.80        14\n",
      "\n",
      "    accuracy                           0.92        75\n",
      "   macro avg       0.93      0.93      0.92        75\n",
      "weighted avg       0.93      0.92      0.92        75\n",
      "\n"
     ]
    }
   ],
   "source": [
    "from sklearn.metrics import classification_report, precision_score, recall_score, f1_score\n",
    "\n",
    "# report accuracy on the test set\n",
    "y_proba = model_vgg.predict(X_test)\n",
    "y_pred = y_proba.argmax(axis=-1)\n",
    "\n",
    "accuracy = tf.keras.metrics.Accuracy()\n",
    "accuracy.update_state(y_test, y_pred)\n",
    "print('Accuracy on the test set is', accuracy.result().numpy())\n",
    "\n",
    "# report precision on the test set\n",
    "precision = precision_score(y_test, y_pred, average='macro')\n",
    "print('Precision on the test set is', precision)\n",
    "\n",
    "# report recall on the test set\n",
    "recall = recall_score(y_test, y_pred, average='macro')\n",
    "print('Recall on the test set is', recall)\n",
    "\n",
    "# report f1-score on the test set\n",
    "recall = f1_score(y_test, y_pred, average='macro')\n",
    "print('F1-score on the test set is', recall)\n",
    "\n",
    "# report the precision and recall values by class_id on the test set\n",
    "print('The precision and recall values by class_id on the test set:')\n",
    "print(classification_report(y_test, y_pred))"
   ]
  },
  {
   "cell_type": "code",
   "execution_count": null,
   "metadata": {},
   "outputs": [],
   "source": []
  }
 ],
 "metadata": {
  "kernelspec": {
   "display_name": "Python 3",
   "language": "python",
   "name": "python3"
  },
  "language_info": {
   "codemirror_mode": {
    "name": "ipython",
    "version": 3
   },
   "file_extension": ".py",
   "mimetype": "text/x-python",
   "name": "python",
   "nbconvert_exporter": "python",
   "pygments_lexer": "ipython3",
   "version": "3.9.16"
  },
  "orig_nbformat": 4
 },
 "nbformat": 4,
 "nbformat_minor": 2
}
